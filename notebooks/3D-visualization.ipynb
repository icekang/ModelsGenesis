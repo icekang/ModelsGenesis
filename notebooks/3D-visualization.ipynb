{
 "cells": [
  {
   "cell_type": "markdown",
   "metadata": {},
   "source": [
    "The purpose of this notebook is to demonstrate how one can visualize the data in the dataset.\n"
   ]
  },
  {
   "cell_type": "code",
   "execution_count": null,
   "metadata": {},
   "outputs": [],
   "source": [
    "# %matplotlib notebook\n",
    "import SimpleITK as sitk\n",
    "import matplotlib.pylab as plt\n",
    "\n",
    "directory = \"/storage_bizon/bizon_imagedata/naravich/LUNA16/seg-lungs-LUNA16/\"\n",
    "filename = \"1.3.6.1.4.1.14519.5.2.1.6279.6001.250438451287314206124484591986.mhd\"\n",
    "ct_scans = sitk.GetArrayFromImage(sitk.ReadImage(f\"{directory}/{filename}\", sitk.sitkFloat32))\n",
    "\n",
    "# Find the slice with non-zero elements\n",
    "for positive_offset in range(ct_scans.shape[0]):\n",
    "    if ct_scans[positive_offset].max() > 0:\n",
    "        print(positive_offset)\n",
    "        break\n",
    "\n",
    "plt.figure(figsize=(20,16))\n",
    "plt.gray()\n",
    "plt.subplots_adjust(0,0,1,1,0.01,0.01)\n",
    "\n",
    "ct_scans = ct_scans[33:]\n",
    "for i in range(min(ct_scans.shape[0], positive_offset)):\n",
    "    plt.subplot(10,10,i+1), plt.imshow(ct_scans[i]), plt.axis('off')\n",
    "    # use plt.savefig(...) here if you want to save the images as .jpg, e.g.,\n",
    "plt.show()\n"
   ]
  }
 ],
 "metadata": {
  "kernelspec": {
   "display_name": "genesis",
   "language": "python",
   "name": "python3"
  },
  "language_info": {
   "codemirror_mode": {
    "name": "ipython",
    "version": 3
   },
   "file_extension": ".py",
   "mimetype": "text/x-python",
   "name": "python",
   "nbconvert_exporter": "python",
   "pygments_lexer": "ipython3",
   "version": "3.12.2"
  }
 },
 "nbformat": 4,
 "nbformat_minor": 2
}
