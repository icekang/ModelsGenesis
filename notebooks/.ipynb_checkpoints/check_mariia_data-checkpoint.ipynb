{
 "cells": [
  {
   "cell_type": "code",
   "execution_count": 3,
   "id": "290e9333-d9c0-4470-8659-79c03ec6ccf3",
   "metadata": {},
   "outputs": [],
   "source": [
    "import nibabel as nib\n",
    "from pathlib import Path\n",
    "import torchio as tio\n",
    "from PIL import Image\n",
    "import numpy as np\n",
    "from scipy.ndimage import binary_erosion, binary_dilation"
   ]
  },
  {
   "cell_type": "code",
   "execution_count": 7,
   "id": "2a4d6593-5f32-4b55-8617-1ed60b01c64f",
   "metadata": {},
   "outputs": [],
   "source": [
    "post_pci_dir = Path('/home/gridsan/nchutisilp/datasets/Mariia/P3_MIT/post_pci')\n",
    "pre_pci_dir = Path('/home/gridsan/nchutisilp/datasets/Mariia/P3_MIT/pre_pci')\n",
    "reference_dir = Path('/home/gridsan/nchutisilp/datasets/nnUNet_Datasets/nnUNet_raw/Dataset300_Lumen_and_Wall_OCT/imagesTr')"
   ]
  },
  {
   "cell_type": "code",
   "execution_count": 8,
   "id": "a154a928-a42b-42bc-a052-bd7194b7e49e",
   "metadata": {},
   "outputs": [],
   "source": [
    "for nii_gz_path in post_pci_dir.glob('*.nii.gz'):\n",
    "    break\n",
    "\n",
    "for ref_nii_gz_path in reference_dir.glob('*.nii.gz'):\n",
    "    break\n"
   ]
  },
  {
   "cell_type": "code",
   "execution_count": null,
   "id": "911a64bb-1d73-4520-a032-2694c805945b",
   "metadata": {},
   "outputs": [],
   "source": [
    "tio.Subject(\n",
    "    image=tio.ScalarImage(nii_gz_path),\n",
    "    ref  =tio.ScalarImage(ref_nii_gz_path)\n",
    ").plot()"
   ]
  },
  {
   "cell_type": "code",
   "execution_count": null,
   "id": "98507339-d77c-4cb5-92ac-144aab631ac9",
   "metadata": {},
   "outputs": [],
   "source": []
  }
 ],
 "metadata": {
  "kernelspec": {
   "display_name": "Python 3 (ipykernel)",
   "language": "python",
   "name": "python3"
  },
  "language_info": {
   "codemirror_mode": {
    "name": "ipython",
    "version": 3
   },
   "file_extension": ".py",
   "mimetype": "text/x-python",
   "name": "python",
   "nbconvert_exporter": "python",
   "pygments_lexer": "ipython3",
   "version": "3.8.15"
  }
 },
 "nbformat": 4,
 "nbformat_minor": 5
}
