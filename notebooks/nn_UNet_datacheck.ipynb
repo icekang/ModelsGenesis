{
 "cells": [
  {
   "cell_type": "markdown",
   "metadata": {},
   "source": [
    "# Check nnUNet dataset\n",
    "## In order to use the same splitting and preprocessing as nnUNet, we need to check the dataset structure"
   ]
  },
  {
   "cell_type": "code",
   "execution_count": null,
   "metadata": {},
   "outputs": [],
   "source": [
    "import numpy as np\n",
    "import pickle\n",
    "from pathlib import Path\n",
    "import torchio as tio\n",
    "\n",
    "unetDataDir = Path('/storage_bizon/naravich/nnUNet_Datasets/nnUNet_preprocessed/Dataset301_Calcium_OCT/nnUNetPlans_3d_fullres')\n",
    "\n",
    "data = np.load(unetDataDir / '101-019.npy')\n",
    "mask = np.load(unetDataDir / '101-019_seg.npy')\n",
    "with open(unetDataDir / '101-019.pkl', 'rb') as f:\n",
    "    data_property = pickle.load(f)\n",
    "preprocessed = np.load(unetDataDir / '101-019.npz')"
   ]
  },
  {
   "cell_type": "code",
   "execution_count": null,
   "metadata": {},
   "outputs": [],
   "source": [
    "print(f'data shape: {data.shape}\\\n",
    "      \\nmask shape: {mask.shape}\\\n",
    "      \\ndata property: {data_property}\\\n",
    "      \\npreprocessed: {preprocessed}\\\n",
    "      \\npreprocessed data: {preprocessed[\"data\"].shape}\\\n",
    "      \\npreprocessed data: {preprocessed[\"seg\"].shape}')"
   ]
  },
  {
   "cell_type": "code",
   "execution_count": null,
   "metadata": {},
   "outputs": [],
   "source": [
    "np.unique(mask), ( data.min(), data.max() ), (  preprocessed[\"data\"].min(), preprocessed[\"data\"].max() ), (  preprocessed[\"seg\"].min(), preprocessed[\"seg\"].max() )"
   ]
  },
  {
   "cell_type": "code",
   "execution_count": null,
   "metadata": {},
   "outputs": [],
   "source": [
    "data_property['class_locations'][1].shape"
   ]
  },
  {
   "cell_type": "code",
   "execution_count": null,
   "metadata": {},
   "outputs": [],
   "source": [
    "subject = tio.Subject(\n",
    "    data = tio.ScalarImage(tensor=data),\n",
    "    mask = tio.LabelMap(tensor=mask == 1),\n",
    "    data_npz = tio.ScalarImage(tensor=preprocessed['data']),\n",
    ")\n",
    "subject.plot()"
   ]
  }
 ],
 "metadata": {
  "kernelspec": {
   "display_name": "genesis",
   "language": "python",
   "name": "python3"
  },
  "language_info": {
   "codemirror_mode": {
    "name": "ipython",
    "version": 3
   },
   "file_extension": ".py",
   "mimetype": "text/x-python",
   "name": "python",
   "nbconvert_exporter": "python",
   "pygments_lexer": "ipython3",
   "version": "3.12.2"
  }
 },
 "nbformat": 4,
 "nbformat_minor": 2
}
