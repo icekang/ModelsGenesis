{
 "cells": [
  {
   "cell_type": "markdown",
   "metadata": {},
   "source": [
    "In this notebook, we are going to create a Pascal VOC (kinda) version of Calcium OCT (from Sohee's)\n",
    "\n",
    "The goal is for MMSeg to be able to read and use. Subsequently, RADIO and DINOv2 can use it for their linear probing semantic segmentaion of their feature map."
   ]
  },
  {
   "cell_type": "code",
   "execution_count": 1,
   "metadata": {},
   "outputs": [],
   "source": [
    "from pathlib import Path\n",
    "import nibabel as nib\n",
    "import numpy as np\n",
    "import cv2\n",
    "\n",
    "def get_color_map():\n",
    "    rbg_map = np.array([\n",
    "        [0, 0, 0], # background\n",
    "        [1, 1, 1], # calcium\n",
    "    ])\n",
    "    label_map = [\n",
    "        'background',\n",
    "        'calcium'\n",
    "    ]\n",
    "\n",
    "    with open(output_root_dir / 'colors.txt', 'w') as f:\n",
    "        for i in range(rbg_map.shape[0]):\n",
    "            f.write(f\"{label_map[i]} {rbg_map[i][0]} {rbg_map[i][1]} {rbg_map[i][2]}\\n\")\n",
    "    return rbg_map\n",
    "\n",
    "def save_image(image, path):\n",
    "    image = cv2.cvtColor(image, cv2.COLOR_BGR2RGB)\n",
    "    cv2.imwrite(str(path), image)\n",
    "\n",
    "def load_nii(path):\n",
    "    return nib.load(path).get_fdata()\n",
    "\n",
    "def prepare_folder_structure(output_root_dir):\n",
    "    output_root_dir = Path(output_root_dir)\n",
    "    output_root_dir.mkdir(parents=True, exist_ok=True)\n",
    "\n",
    "    image_dir = output_root_dir / \"JPEGImages\"\n",
    "    segmentation_dir = output_root_dir / \"SegmentationClass\"\n",
    "    imagesets_dir = output_root_dir / \"ImageSets\"\n",
    "\n",
    "    image_dir.mkdir(exist_ok=False)\n",
    "    \n",
    "    segmentation_dir.mkdir(exist_ok=True)\n",
    "    imagesets_dir.mkdir(exist_ok=True)\n",
    "\n",
    "    return output_root_dir, image_dir, segmentation_dir, imagesets_dir\n",
    "\n",
    "output_root_dir, image_dir, segmentation_dir, imagesets_dir = prepare_folder_structure(output_root_dir = \"/storage_bizon/naravich/datasets/CalciumOCT_VOC\")\n",
    "\n",
    "nii_image_dir = Path(\"/storage_bizon/naravich/nnUNet_Datasets/nnUNet_raw/Dataset302_Calcium_OCTv2/imagesTr/\")\n",
    "nii_segmentation_dir = Path(\"/storage_bizon/naravich/nnUNet_Datasets/nnUNet_raw/Dataset302_Calcium_OCTv2/labelsTr/\")"
   ]
  },
  {
   "cell_type": "code",
   "execution_count": 2,
   "metadata": {},
   "outputs": [],
   "source": [
    "rbg_map = get_color_map()\n",
    "count = 0\n",
    "for nii_image_path in nii_image_dir.glob(\"*.nii.gz\"):\n",
    "    imag_name = nii_image_path.name[:-len('_0000.nii.gz')]\n",
    "    label_name = imag_name + \".nii.gz\"\n",
    "    nii_segmentation_path = nii_segmentation_dir / label_name\n",
    "\n",
    "    image = load_nii(nii_image_path)\n",
    "    image = image.astype(np.float32) * 255\n",
    "    image = 2 * image\n",
    "    assert image.max() <= 255\n",
    "    segmentation = load_nii(nii_segmentation_path)\n",
    "\n",
    "    num_images = image.shape[2] # slice in z-axis\n",
    "    for i in range(num_images):\n",
    "        image_slice = image[:, :, i]\n",
    "        segmentation_slice = segmentation[:, :, i]\n",
    "        \n",
    "        rgb_image = cv2.cvtColor(image_slice, cv2.COLOR_GRAY2RGB)\n",
    "\n",
    "        rgb_segmentation = np.zeros((segmentation_slice.shape[0], segmentation_slice.shape[1], 3), dtype=np.uint8)\n",
    "        for j in range(rbg_map.shape[0]):\n",
    "            rgb_segmentation[segmentation_slice == j] = rbg_map[j]\n",
    "\n",
    "        if segmentation_slice.max() > 0:\n",
    "            save_image(rgb_image, image_dir / f\"{imag_name}_{i}.jpg\")\n",
    "            save_image(rgb_segmentation, segmentation_dir / f\"{imag_name}_{i}.png\")\n",
    "            with open(imagesets_dir / \"train.txt\", \"a\") as f:\n",
    "                f.write(f\"{imag_name}_{i}\\n\")\n",
    "            if count > 10:\n",
    "                break\n",
    "            count += 1\n",
    "            \n",
    "    break"
   ]
  },
  {
   "cell_type": "code",
   "execution_count": null,
   "metadata": {},
   "outputs": [],
   "source": []
  }
 ],
 "metadata": {
  "kernelspec": {
   "display_name": "genesis",
   "language": "python",
   "name": "python3"
  },
  "language_info": {
   "codemirror_mode": {
    "name": "ipython",
    "version": 3
   },
   "file_extension": ".py",
   "mimetype": "text/x-python",
   "name": "python",
   "nbconvert_exporter": "python",
   "pygments_lexer": "ipython3",
   "version": "3.12.2"
  }
 },
 "nbformat": 4,
 "nbformat_minor": 2
}
