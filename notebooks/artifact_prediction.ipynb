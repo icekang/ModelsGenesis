{
 "cells": [
  {
   "cell_type": "code",
   "execution_count": null,
   "metadata": {},
   "outputs": [],
   "source": [
    "%matplotlib inline"
   ]
  },
  {
   "cell_type": "code",
   "execution_count": null,
   "metadata": {},
   "outputs": [],
   "source": [
    "import torchio as tio\n",
    "import torch\n",
    "\n",
    "# rsync supercloud:/home/gridsan/nchutisilp/datasets/ModelGenesisOutputs/ModelGenesisNNUNetFinetuningV2_noNorm/LogsBCE/fold_0/prediction_0.pt .\n",
    "# rsync supercloud:/home/gridsan/nchutisilp/datasets/ModelGenesisOutputs/ModelGenesisNNUNetFinetuningV2_noNorm/LogsBCE/fold_0/label_0.pt .\n",
    "\n",
    "subject=  tio.Subject(\n",
    "    image = tio.ScalarImage('/storage_bizon/naravich/nnUNet_Datasets/nnUNet_raw/Dataset302_Calcium_OCTv2/imagesTs/101-045_0000.nii.gz'),\n",
    "    gt2 = tio.ScalarImage('/storage_bizon/naravich/nnUNet_Datasets/nnUNet_raw/Dataset302_Calcium_OCTv2/labelsTs/101-045.nii.gz'),\n",
    ")\n",
    "\n",
    "subject=  tio.Subject(\n",
    "    image = tio.ScalarImage(tensor=torch.flip(subject.image.data, dims=(0,))),\n",
    "    prediction=tio.ScalarImage(tensor=torch.load('prediction_0.pt')),\n",
    "    gt = tio.ScalarImage(tensor=torch.load('label_0.pt')),\n",
    "    # gt2 = tio.ScalarImage(tensor=torch.flip(subject.gt2.data, dims=(0,))),\n",
    ")\n",
    "subject.plot(figsize=(15, 15))\n"
   ]
  },
  {
   "cell_type": "code",
   "execution_count": null,
   "metadata": {},
   "outputs": [],
   "source": [
    "import torchio as tio\n",
    "import torch\n",
    "\n",
    "# rsync supercloud:/home/gridsan/nchutisilp/datasets/ModelGenesisOutputs/ModelGenesisNNUNetFinetuningV2_noNorm/LogsBCEAugUniform/fold_2/prediction_0.pt ./uniform/\n",
    "# rsync supercloud:/home/gridsan/nchutisilp/datasets/ModelGenesisOutputs/ModelGenesisNNUNetFinetuningV2_noNorm/LogsBCEAugUniform/fold_2/label_0.pt ./uniform/\n",
    "\n",
    "subject=  tio.Subject(\n",
    "    image = tio.ScalarImage('/storage_bizon/naravich/nnUNet_Datasets/nnUNet_raw/Dataset302_Calcium_OCTv2/imagesTs/101-045_0000.nii.gz'),\n",
    "    gt2 = tio.ScalarImage('/storage_bizon/naravich/nnUNet_Datasets/nnUNet_raw/Dataset302_Calcium_OCTv2/labelsTs/101-045.nii.gz'),\n",
    ")\n",
    "\n",
    "subject=  tio.Subject(\n",
    "    image = tio.ScalarImage(tensor=torch.flip(subject.image.data, dims=(0,))),\n",
    "    prediction=tio.ScalarImage(tensor=torch.load('uniform/prediction_0.pt')),\n",
    "    gt = tio.ScalarImage(tensor=torch.load('uniform/label_0.pt')),\n",
    "    # gt2 = tio.ScalarImage(tensor=torch.flip(subject.gt2.data, dims=(0,))),\n",
    ")\n",
    "subject.plot(figsize=(15, 15))\n"
   ]
  }
 ],
 "metadata": {
  "kernelspec": {
   "display_name": "genesis",
   "language": "python",
   "name": "python3"
  },
  "language_info": {
   "codemirror_mode": {
    "name": "ipython",
    "version": 3
   },
   "file_extension": ".py",
   "mimetype": "text/x-python",
   "name": "python",
   "nbconvert_exporter": "python",
   "pygments_lexer": "ipython3",
   "version": "3.12.2"
  }
 },
 "nbformat": 4,
 "nbformat_minor": 2
}
